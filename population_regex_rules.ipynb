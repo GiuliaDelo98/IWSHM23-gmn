{
 "cells": [
  {
   "cell_type": "code",
   "execution_count": 1,
   "metadata": {},
   "outputs": [],
   "source": [
    "import re"
   ]
  },
  {
   "cell_type": "code",
   "execution_count": 2,
   "metadata": {},
   "outputs": [
    {
     "data": {
      "text/plain": [
       "True"
      ]
     },
     "execution_count": 2,
     "metadata": {},
     "output_type": "execute_result"
    }
   ],
   "source": [
    "population_regex_0 = \"-\\w+-winglets\"\n",
    "population_regex_1 = \"-scale-group-+[0-9]\"\n",
    "population_regex_2 = \"-material-+\\w+.\"\n",
    "population_regex_01 = \"-\\w+-winglets-scale-group-+[0-9]\"\n",
    "population_regex_02 = [\"-\\w+-winglets\", \"-material-+\\w+.\"]\n",
    "population_regex_012 = \"-\\w+-winglets-scale-group-+[0-9]-material-+\\w+.\"\n",
    "\n",
    "\n",
    "\n",
    "payload1 = {}\n",
    "payload1[\"name\"]  = \"garteur-aeroplane-2-no-winglets-scale-group-4-material-nickelAlloy.json\"\n",
    "payload2 = {}\n",
    "payload2[\"name\"]  = \"garteur-aeroplane-2-no-winglets-scale-group-1-material-nickelAlloy.json\"\n",
    "\n",
    "# For rule 0+2\n",
    "population1 = re.search(rf\"{population_regex_02[0]}\", payload1[\"name\"]).group() + re.search(rf\"{population_regex_02[1]}\", payload1[\"name\"]).group()\n",
    "population2 = re.search(rf\"{population_regex_02[0]}\", payload2[\"name\"]).group() + re.search(rf\"{population_regex_02[1]}\", payload2[\"name\"]).group() \n",
    "\n",
    "population1 == population2"
   ]
  },
  {
   "cell_type": "code",
   "execution_count": 3,
   "metadata": {},
   "outputs": [
    {
     "data": {
      "text/plain": [
       "False"
      ]
     },
     "execution_count": 3,
     "metadata": {},
     "output_type": "execute_result"
    }
   ],
   "source": [
    "\n",
    "# for other rules\n",
    "population1 = re.search(rf\"{population_regex_012}\", payload1[\"name\"]).group() \n",
    "population2 = re.search(rf\"{population_regex_012}\", payload2[\"name\"]).group()\n",
    "\n",
    "population1 == population2"
   ]
  }
 ],
 "metadata": {
  "kernelspec": {
   "display_name": "Python 3",
   "language": "python",
   "name": "python3"
  },
  "language_info": {
   "codemirror_mode": {
    "name": "ipython",
    "version": 3
   },
   "file_extension": ".py",
   "mimetype": "text/x-python",
   "name": "python",
   "nbconvert_exporter": "python",
   "pygments_lexer": "ipython3",
   "version": "3.9.6"
  }
 },
 "nbformat": 4,
 "nbformat_minor": 2
}
